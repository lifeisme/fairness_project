{
 "cells": [
  {
   "cell_type": "code",
   "execution_count": 1,
   "metadata": {},
   "outputs": [],
   "source": [
    "from pulp import *"
   ]
  },
  {
   "cell_type": "code",
   "execution_count": 2,
   "metadata": {},
   "outputs": [],
   "source": [
    "probIT = LpProblem(\"IT_rac\", LpMinimize)"
   ]
  },
  {
   "cell_type": "code",
   "execution_count": 3,
   "metadata": {},
   "outputs": [],
   "source": [
    "IT0 = LpVariable(\"IT0\", lowBound=27, cat = \"Continuous\")\n",
    "IT1 = LpVariable(\"IT1\", lowBound=7, cat = \"Continuous\")\n",
    "IT2 = LpVariable(\"IT2\", lowBound=4, cat = \"Continuous\")\n",
    "IT3 = LpVariable(\"IT3\", lowBound=1, cat = \"Continuous\")\n",
    "IT4 = LpVariable(\"IT4\", lowBound=2, cat = \"Continuous\")\n",
    "\n",
    "probIT += 1*IT0 + 1*IT1 + 1*IT2 + 1*IT3 + 1*IT4\n",
    "\n",
    "probIT += 1*IT0 <= 806\n",
    "probIT += 1*IT1 <= 71\n",
    "probIT += 1*IT2 <= 44\n",
    "probIT += 1*IT3 <= 4\n",
    "probIT += 1*IT4 <= 3\n",
    "\n",
    "probIT += 0.131*IT0 - 0.869*IT1 - 0.869*IT2 - 0.869*IT3 - 0.869*IT4 <= 0\n",
    "probIT += 0.131*IT0 - 0.869*IT1 - 0.869*IT2 - 0.869*IT3 - 0.869*IT4 >= 0\n",
    "\n",
    "probIT += 0.923*IT1 - 0.077*IT0 - 0.077*IT2 - 0.077*IT3 - 0.077*IT4 <= 0\n",
    "probIT += 0.923*IT1 - 0.077*IT0 - 0.077*IT2 - 0.077*IT3 - 0.077*IT4 >= 0\n",
    "\n",
    "probIT += 0.953*IT2 - 0.047*IT1 - 0.047*IT0 - 0.047*IT3 - 0.047*IT4 <= 0\n",
    "probIT += 0.953*IT2 - 0.047*IT1 - 0.047*IT0 - 0.047*IT3 - 0.047*IT4 >= 0\n",
    "\n",
    "probIT += 0.996*IT3 - 0.004*IT1 - 0.004*IT2 - 0.004*IT0 - 0.004*IT4 <= 0\n",
    "probIT += 0.996*IT3 - 0.004*IT1 - 0.004*IT2 - 0.004*IT0 - 0.004*IT4 >= 0\n",
    "\n",
    "probIT += 0.997*IT4 - 0.003*IT1 - 0.003*IT2 - 0.003*IT3 - 0.003*IT0 <= 0\n",
    "probIT += 0.997*IT4 - 0.003*IT1 - 0.003*IT2 - 0.003*IT3 - 0.003*IT0 >= 0\n",
    "\n",
    "#probIT"
   ]
  },
  {
   "cell_type": "code",
   "execution_count": 4,
   "metadata": {},
   "outputs": [
    {
     "data": {
      "text/plain": [
       "'Optimal'"
      ]
     },
     "execution_count": 4,
     "metadata": {},
     "output_type": "execute_result"
    }
   ],
   "source": [
    "status = probIT.solve()\n",
    "LpStatus[status]"
   ]
  },
  {
   "cell_type": "code",
   "execution_count": 5,
   "metadata": {},
   "outputs": [
    {
     "data": {
      "text/plain": [
       "(579.33333, 51.333333, 31.333333, 2.6666667, 2.0, 666.6666627000001)"
      ]
     },
     "execution_count": 5,
     "metadata": {},
     "output_type": "execute_result"
    }
   ],
   "source": [
    "value(IT0), value(IT1),  value(IT2),  value(IT3),  value(IT4), value(probIT.objective)"
   ]
  },
  {
   "cell_type": "code",
   "execution_count": 6,
   "metadata": {},
   "outputs": [
    {
     "data": {
      "text/plain": [
       "'Optimal'"
      ]
     },
     "execution_count": 6,
     "metadata": {},
     "output_type": "execute_result"
    }
   ],
   "source": [
    "probad = LpProblem(\"Adminra\", LpMinimize)\n",
    "ad0 = LpVariable(\"ad0\", lowBound=5, cat = \"Integer\")\n",
    "ad1 = LpVariable(\"ad1\", lowBound=3, cat = \"Integer\")\n",
    "ad2 = LpVariable(\"ad2\", lowBound=2, cat = \"Integer\")\n",
    "ad3 = LpVariable(\"ad3\", lowBound=0, cat = \"Integer\")\n",
    "ad4 = LpVariable(\"ad4\", lowBound=0, cat = \"Integer\")\n",
    "probad += 1*ad0  + 1*ad1 + 1*ad2 + 1*ad3 + 1*ad4\n",
    "probad += 1*ad0 <= 3084\n",
    "probad += 1*ad1 <= 490\n",
    "probad += 1*ad2 <= 139\n",
    "probad += 1*ad3 <= 31\n",
    "probad += 1*ad4 <= 26\n",
    "\n",
    "probad += 0.182*ad0 - 0.818*ad1 - 0.818*ad2 - 0.818*ad3 - 0.818*ad4 <= 0\n",
    "probad += 0.182*ad0 - 0.818*ad1 - 0.818*ad2 - 0.818*ad3 - 0.818*ad4 >= 0\n",
    "\n",
    "probad += 0.870*ad1 - 0.130*ad0 - 0.130*ad2 - 0.130*ad3 - 0.130*ad4 <= 0\n",
    "probad += 0.870*ad1 - 0.130*ad0 - 0.130*ad2 - 0.130*ad3 - 0.130*ad4 >= 0\n",
    "\n",
    "probad += 0.963*ad2 - 0.037*ad1 - 0.037*ad0 - 0.037*ad3 - 0.037*ad4 <= 0\n",
    "probad += 0.963*ad2 - 0.037*ad1 - 0.037*ad0 - 0.037*ad3 - 0.037*ad4 >= 0\n",
    "\n",
    "probad += 0.992*ad3 - 0.008*ad1 - 0.008*ad2 - 0.008*ad0 - 0.008*ad4 <= 0\n",
    "probad += 0.992*ad3 - 0.008*ad1 - 0.008*ad2 - 0.008*ad0 - 0.008*ad4 >= 0\n",
    "\n",
    "probad += 0.993*ad4 - 0.007*ad1 - 0.007*ad2 - 0.007*ad3 - 0.007*ad0 <= 0\n",
    "probad += 0.993*ad4 - 0.007*ad1 - 0.007*ad2 - 0.007*ad3 - 0.007*ad0 >= 0\n",
    "\n",
    "#prob\n",
    "status = probad.solve()\n",
    "LpStatus[status]"
   ]
  },
  {
   "cell_type": "code",
   "execution_count": 7,
   "metadata": {},
   "outputs": [
    {
     "data": {
      "text/plain": [
       "(818.0, 130.0, 37.0, 8.0, 7.0, 1000.0)"
      ]
     },
     "execution_count": 7,
     "metadata": {},
     "output_type": "execute_result"
    }
   ],
   "source": [
    "value(ad0), value(ad1), value(ad2), value(ad3), value(ad4), value(probad.objective)"
   ]
  },
  {
   "cell_type": "code",
   "execution_count": 8,
   "metadata": {},
   "outputs": [
    {
     "data": {
      "text/plain": [
       "'Optimal'"
      ]
     },
     "execution_count": 8,
     "metadata": {},
     "output_type": "execute_result"
    }
   ],
   "source": [
    "probprod = LpProblem(\"Prodra\", LpMinimize)\n",
    "prod0 = LpVariable(\"prod0\", lowBound=138, cat = \"Integer\")\n",
    "prod1 = LpVariable(\"prod1\", lowBound=32, cat = \"Integer\")\n",
    "prod2 = LpVariable(\"prod2\", lowBound=22, cat = \"Integer\")\n",
    "prod3 = LpVariable(\"prod3\", lowBound=6, cat = \"Integer\")\n",
    "prod4 = LpVariable(\"prod4\", lowBound=10, cat = \"Integer\")\n",
    "probprod += 1*prod0  + 1*prod1 + 1*prod2 + 1*prod3 + 1*prod4\n",
    "probprod += 1*prod0 <= 9344\n",
    "probprod += 1*prod1 <= 1294\n",
    "probprod += 1*prod2 <= 287\n",
    "probprod += 1*prod3 <= 132\n",
    "probprod += 1*prod4 <= 102\n",
    "\n",
    "probprod += 0.163*prod0 - 0.837*prod1 - 0.837*prod2 - 0.837*prod3 - 0.837*prod4 <= 0\n",
    "probprod += 0.163*prod0 - 0.837*prod1 - 0.837*prod2 - 0.837*prod3 - 0.837*prod4 >= 0\n",
    "\n",
    "probprod += 0.884*prod1 - 0.116*prod0 - 0.116*prod2 - 0.116*prod3 - 0.116*prod4 <= 0\n",
    "probprod += 0.884*prod1 - 0.116*prod0 - 0.116*prod2 - 0.116*prod3 - 0.116*prod4 >= 0\n",
    "\n",
    "probprod += 0.974*prod2 - 0.026*prod1 - 0.026*prod0 - 0.026*prod3 - 0.026*prod4 <= 0\n",
    "probprod += 0.974*prod2 - 0.026*prod1 - 0.026*prod0 - 0.026*prod3 - 0.026*prod4 >= 0\n",
    "\n",
    "probprod += 0.988*prod3 - 0.012*prod1 - 0.012*prod2 - 0.012*prod0 - 0.012*prod4 <= 0\n",
    "probprod += 0.988*prod3 - 0.012*prod1 - 0.012*prod2 - 0.012*prod0 - 0.012*prod4 >= 0\n",
    "\n",
    "probprod += 0.991*prod4 - 0.009*prod1 - 0.009*prod2 - 0.009*prod3 - 0.009*prod0 <= 0\n",
    "probprod += 0.991*prod4 - 0.009*prod1 - 0.009*prod2 - 0.009*prod3 - 0.009*prod0 >= 0\n",
    "\n",
    "#prob\n",
    "status = probprod.solve()\n",
    "LpStatus[status]"
   ]
  },
  {
   "cell_type": "code",
   "execution_count": 9,
   "metadata": {},
   "outputs": [
    {
     "data": {
      "text/plain": [
       "(1674.0, 232.0, 52.0, 24.0, 18.0, 2000.0)"
      ]
     },
     "execution_count": 9,
     "metadata": {},
     "output_type": "execute_result"
    }
   ],
   "source": [
    "value(prod0), value(prod1), value(prod2), value(prod3), value(prod4), value(probprod.objective)"
   ]
  },
  {
   "cell_type": "code",
   "execution_count": 10,
   "metadata": {},
   "outputs": [
    {
     "data": {
      "text/plain": [
       "'Optimal'"
      ]
     },
     "execution_count": 10,
     "metadata": {},
     "output_type": "execute_result"
    }
   ],
   "source": [
    "probse = LpProblem(\"SE_ra\", LpMinimize)\n",
    "se0 = LpVariable(\"se0\", lowBound=4, cat = \"Integer\")\n",
    "se1 = LpVariable(\"se1\", lowBound=3, cat = \"Integer\")\n",
    "se2 = LpVariable(\"se2\", lowBound=2, cat = \"Integer\")\n",
    "se3 = LpVariable(\"se3\", lowBound=0, cat = \"Integer\")\n",
    "se4 = LpVariable(\"se4\", lowBound=0, cat = \"Integer\")\n",
    "probse += 1*se0 + 1*se1 + 1*se2 + 1*se3 + 1*se4\n",
    "\n",
    "probse += 1*se0 <= 3651\n",
    "probse += 1*se1 <= 239\n",
    "probse += 1*se2 <= 186\n",
    "probse += 1*se3 <= 33\n",
    "probse += 1*se4 <= 31\n",
    "\n",
    "probse += 0.118*se0 - 0.882*se1 - 0.882*se2 - 0.882*se3 - 0.882*se4 <= 0\n",
    "probse += 0.118*se0 - 0.882*se1 - 0.882*se2 - 0.882*se3 - 0.882*se4 >= 0\n",
    "\n",
    "probse += 0.942*se1 - 0.058*se0 - 0.058*se2 - 0.058*se3 - 0.058*se4 <= 0\n",
    "probse += 0.942*se1 - 0.058*se0 - 0.058*se2 - 0.058*se3 - 0.058*se4 >= 0\n",
    "\n",
    "probse += 0.955*se2 - 0.045*se1 - 0.045*se0 - 0.045*se3 - 0.045*se4 <= 0\n",
    "probse += 0.955*se2 - 0.045*se1 - 0.045*se0 - 0.045*se3 - 0.045*se4 >= 0\n",
    "\n",
    "probse += 0.992*se3 - 0.008*se1 - 0.008*se2 - 0.008*se0 - 0.008*se4 <= 0\n",
    "probse += 0.992*se3 - 0.008*se1 - 0.008*se2 - 0.008*se0 - 0.008*se4 >= 0\n",
    "\n",
    "probse += 0.993*se4 - 0.007*se1 - 0.007*se2 - 0.007*se3 - 0.007*se0 <= 0\n",
    "probse += 0.993*se4 - 0.007*se1 - 0.007*se2 - 0.007*se3 - 0.007*se0 >= 0\n",
    "#prob\n",
    "status = probse.solve()\n",
    "LpStatus[status]"
   ]
  },
  {
   "cell_type": "code",
   "execution_count": 11,
   "metadata": {},
   "outputs": [
    {
     "data": {
      "text/plain": [
       "(882.0, 58.0, 45.0, 8.0, 7.0, 1000.0)"
      ]
     },
     "execution_count": 11,
     "metadata": {},
     "output_type": "execute_result"
    }
   ],
   "source": [
    "value(se0), value(se1), value(se2), value(se3), value(se4), value(probse.objective)"
   ]
  },
  {
   "cell_type": "code",
   "execution_count": 12,
   "metadata": {},
   "outputs": [
    {
     "data": {
      "text/plain": [
       "'Optimal'"
      ]
     },
     "execution_count": 12,
     "metadata": {},
     "output_type": "execute_result"
    }
   ],
   "source": [
    "probsa = LpProblem(\"Salesra\", LpMinimize)\n",
    "sa0 = LpVariable(\"sa0\", lowBound=14, cat = \"Integer\")\n",
    "sa1 = LpVariable(\"sa1\", lowBound=9, cat = \"Integer\")\n",
    "sa2 = LpVariable(\"sa2\", lowBound=1, cat = \"Integer\")\n",
    "sa3 = LpVariable(\"sa3\", lowBound=1, cat = \"Integer\")\n",
    "sa4 = LpVariable(\"sa4\", lowBound=6, cat = \"Integer\")\n",
    "probsa += 1*sa0 + 1*sa1 + 1*sa2 + 1*sa3 + 1*sa4\n",
    "\n",
    "probsa += 1*sa0 <= 3237\n",
    "probsa += 1*sa1 <= 254\n",
    "probsa += 1*sa2 <= 108\n",
    "probsa += 1*sa3 <= 26\n",
    "probsa += 1*sa4 <= 25\n",
    "\n",
    "\n",
    "probsa += 0.113*sa0 - 0.887*sa1 - 0.887*sa2 - 0.887*sa3 - 0.887*sa4 <= 0\n",
    "probsa += 0.113*sa0 - 0.887*sa1 - 0.887*sa2 - 0.887*sa3 - 0.887*sa4 >= 0\n",
    "\n",
    "probsa += 0.93*sa1 - 0.07*sa0 - 0.07*sa2 - 0.07*sa3 - 0.07*sa4 <= 0\n",
    "probsa += 0.93*sa1 - 0.07*sa0 - 0.07*sa2 - 0.07*sa3 - 0.07*sa4 >= 0\n",
    "\n",
    "probsa += 0.97*sa2 - 0.03*sa1 - 0.03*sa0 - 0.03*sa3 - 0.03*sa4 <= 0\n",
    "probsa += 0.97*sa2 - 0.03*sa1 - 0.03*sa0 - 0.03*sa3 - 0.03*sa4 >= 0\n",
    "\n",
    "probsa += 0.993*sa3 - 0.007*sa1 - 0.007*sa2 - 0.007*sa0 - 0.007*sa4 <= 0\n",
    "probsa += 0.993*sa3 - 0.007*sa1 - 0.007*sa2 - 0.007*sa0 - 0.007*sa4 >= 0\n",
    "\n",
    "probsa += 0.994*sa4 - 0.006*sa1 - 0.006*sa2 - 0.006*sa3 - 0.006*sa0 <= 0\n",
    "probsa += 0.994*sa4 - 0.006*sa1 - 0.006*sa2 - 0.006*sa3 - 0.006*sa0 >= 0\n",
    "\n",
    "\n",
    "#prob\n",
    "status = probsa.solve()\n",
    "LpStatus[status]"
   ]
  },
  {
   "cell_type": "code",
   "execution_count": 13,
   "metadata": {},
   "outputs": [
    {
     "data": {
      "text/plain": [
       "(887.0, 70.0, 30.0, 7.0, 6.0, 1000.0)"
      ]
     },
     "execution_count": 13,
     "metadata": {},
     "output_type": "execute_result"
    }
   ],
   "source": [
    "value(sa0), value(sa1), value(sa2), value(sa3), value(sa4), value(probsa.objective)"
   ]
  },
  {
   "cell_type": "code",
   "execution_count": null,
   "metadata": {},
   "outputs": [],
   "source": []
  }
 ],
 "metadata": {
  "kernelspec": {
   "display_name": "Python 2",
   "language": "python",
   "name": "python2"
  },
  "language_info": {
   "codemirror_mode": {
    "name": "ipython",
    "version": 2
   },
   "file_extension": ".py",
   "mimetype": "text/x-python",
   "name": "python",
   "nbconvert_exporter": "python",
   "pygments_lexer": "ipython2",
   "version": "2.7.15"
  }
 },
 "nbformat": 4,
 "nbformat_minor": 2
}
