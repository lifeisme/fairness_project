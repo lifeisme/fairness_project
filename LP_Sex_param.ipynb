{
 "cells": [
  {
   "cell_type": "code",
   "execution_count": 1,
   "metadata": {},
   "outputs": [],
   "source": [
    "from pulp import *"
   ]
  },
  {
   "cell_type": "code",
   "execution_count": 2,
   "metadata": {},
   "outputs": [],
   "source": [
    "probIT = LpProblem(\"IT\", LpMinimize)"
   ]
  },
  {
   "cell_type": "code",
   "execution_count": 3,
   "metadata": {},
   "outputs": [],
   "source": [
    "IT0 = LpVariable(\"IT0\", lowBound=19, cat = \"Integer\")\n",
    "IT1 = LpVariable(\"IT1\", lowBound=22, cat = \"Integer\")\n",
    "probIT += 1*IT0 + 1*IT1\n",
    "probIT += 1*IT0 <= 348 \n",
    "probIT += 1*IT1 <= 580\n",
    "probIT += 0.375*IT1 - 0.625*IT0 <= 0\n",
    "probIT += 0.375*IT1 - 0.625*IT0 >= 0\n",
    "#probIT"
   ]
  },
  {
   "cell_type": "code",
   "execution_count": 4,
   "metadata": {},
   "outputs": [
    {
     "data": {
      "text/plain": [
       "'Optimal'"
      ]
     },
     "execution_count": 4,
     "metadata": {},
     "output_type": "execute_result"
    }
   ],
   "source": [
    "status = probIT.solve()\n",
    "LpStatus[status]"
   ]
  },
  {
   "cell_type": "code",
   "execution_count": 5,
   "metadata": {},
   "outputs": [
    {
     "data": {
      "text/plain": [
       "(21.0, 35.0, 56.0)"
      ]
     },
     "execution_count": 5,
     "metadata": {},
     "output_type": "execute_result"
    }
   ],
   "source": [
    "value(IT0), value(IT1), value(probIT.objective)"
   ]
  },
  {
   "cell_type": "code",
   "execution_count": 6,
   "metadata": {},
   "outputs": [
    {
     "data": {
      "text/plain": [
       "'Optimal'"
      ]
     },
     "execution_count": 6,
     "metadata": {},
     "output_type": "execute_result"
    }
   ],
   "source": [
    "probad = LpProblem(\"Admin\", LpMinimize)\n",
    "ad0 = LpVariable(\"ad0\", lowBound=6, cat = \"Integer\")\n",
    "ad1 = LpVariable(\"ad1\", lowBound=4, cat = \"Integer\")\n",
    "probad += 1*ad0 + 1*ad1\n",
    "probad += 1*ad0 <= 2537\n",
    "probad += 1*ad1 <= 1233\n",
    "probad += 0.67*ad1 - 0.33*ad0 <= 0\n",
    "probad += 0.67*ad1 - 0.33*ad0 >= 0\n",
    "#prob\n",
    "status = probad.solve()\n",
    "LpStatus[status]"
   ]
  },
  {
   "cell_type": "code",
   "execution_count": 7,
   "metadata": {},
   "outputs": [
    {
     "data": {
      "text/plain": [
       "(67.0, 33.0, 100.0)"
      ]
     },
     "execution_count": 7,
     "metadata": {},
     "output_type": "execute_result"
    }
   ],
   "source": [
    "value(ad0), value(ad1), value(probad.objective)"
   ]
  },
  {
   "cell_type": "code",
   "execution_count": 8,
   "metadata": {},
   "outputs": [
    {
     "data": {
      "text/plain": [
       "'Optimal'"
      ]
     },
     "execution_count": 8,
     "metadata": {},
     "output_type": "execute_result"
    }
   ],
   "source": [
    "probprod = LpProblem(\"Production\", LpMinimize)\n",
    "prod0 = LpVariable(\"prod0\", lowBound=127, cat = \"Integer\")\n",
    "prod1 = LpVariable(\"prod1\", lowBound=81, cat = \"Integer\")\n",
    "probprod += 1*prod0 + 1*prod1\n",
    "probprod += 1*prod0 <= 2493\n",
    "probprod += 1*prod1 <= 8666\n",
    "probprod += 0.22*prod1 - 0.78*prod0 <= 0\n",
    "probprod += 0.22*prod1 - 0.78*prod0 >= 0\n",
    "#prob\n",
    "status = probprod.solve()\n",
    "LpStatus[status]"
   ]
  },
  {
   "cell_type": "code",
   "execution_count": 9,
   "metadata": {},
   "outputs": [
    {
     "data": {
      "text/plain": [
       "(132.0, 468.0, 600.0)"
      ]
     },
     "execution_count": 9,
     "metadata": {},
     "output_type": "execute_result"
    }
   ],
   "source": [
    "value(prod0), value(prod1), value(probprod.objective)"
   ]
  },
  {
   "cell_type": "code",
   "execution_count": 10,
   "metadata": {},
   "outputs": [
    {
     "data": {
      "text/plain": [
       "'Optimal'"
      ]
     },
     "execution_count": 10,
     "metadata": {},
     "output_type": "execute_result"
    }
   ],
   "source": [
    "probse = LpProblem(\"SE\", LpMinimize)\n",
    "se0 = LpVariable(\"se0\", lowBound=6, cat = \"Integer\")\n",
    "se1 = LpVariable(\"se1\", lowBound=3, cat = \"Integer\")\n",
    "probse += 1*se0 + 1*se1\n",
    "probse += 1*se0 <= 1515\n",
    "probse += 1*se1 <= 2625\n",
    "probse += 0.27*se1 - 0.63*se0 <= 0\n",
    "probse += 0.27*se1 - 0.63*se0 >= 0\n",
    "#prob\n",
    "status = probse.solve()\n",
    "LpStatus[status]"
   ]
  },
  {
   "cell_type": "code",
   "execution_count": 11,
   "metadata": {},
   "outputs": [
    {
     "data": {
      "text/plain": [
       "(6.0, 14.0, 20.0)"
      ]
     },
     "execution_count": 11,
     "metadata": {},
     "output_type": "execute_result"
    }
   ],
   "source": [
    "value(se0), value(se1), value(probse.objective)"
   ]
  },
  {
   "cell_type": "code",
   "execution_count": 12,
   "metadata": {},
   "outputs": [
    {
     "data": {
      "text/plain": [
       "'Optimal'"
      ]
     },
     "execution_count": 12,
     "metadata": {},
     "output_type": "execute_result"
    }
   ],
   "source": [
    "probsa = LpProblem(\"Sales\", LpMinimize)\n",
    "sa0 = LpVariable(\"sa0\", lowBound=15, cat = \"Integer\")\n",
    "sa1 = LpVariable(\"sa1\", lowBound=16, cat = \"Integer\")\n",
    "probsa += 1*sa0 + 1*sa1\n",
    "probsa += 1*sa0 <= 1263\n",
    "probsa += 1*sa1 <= 2387\n",
    "probsa += 0.35*sa1 - 0.65*sa0 <= 0\n",
    "probsa += 0.35*sa1 - 0.65*sa0 >= 0\n",
    "#prob\n",
    "status = probsa.solve()\n",
    "LpStatus[status]"
   ]
  },
  {
   "cell_type": "code",
   "execution_count": 13,
   "metadata": {},
   "outputs": [
    {
     "data": {
      "text/plain": [
       "(21.0, 39.0, 60.0)"
      ]
     },
     "execution_count": 13,
     "metadata": {},
     "output_type": "execute_result"
    }
   ],
   "source": [
    "value(sa0), value(sa1), value(probsa.objective)"
   ]
  },
  {
   "cell_type": "code",
   "execution_count": 14,
   "metadata": {},
   "outputs": [
    {
     "data": {
      "text/plain": [
       "'Optimal'"
      ]
     },
     "execution_count": 14,
     "metadata": {},
     "output_type": "execute_result"
    }
   ],
   "source": [
    "probce = LpProblem(\"Sales\", LpMinimize)\n",
    "ce0 = LpVariable(\"ce0\", lowBound=1, cat = \"Integer\")\n",
    "ce1 = LpVariable(\"ce1\", lowBound=0, cat = \"Integer\")\n",
    "probce += 1*ce0 + 1*ce1\n",
    "probce += 1*ce0 <= 2387\n",
    "probce += 1*ce1 <= 1263\n",
    "probce += 0.35*ce0 - 0.65*ce1 <= 0\n",
    "probce += 0.35*ce0 - 0.65*ce1 >= 0\n",
    "#prob\n",
    "status = probce.solve()\n",
    "LpStatus[status]"
   ]
  },
  {
   "cell_type": "code",
   "execution_count": 15,
   "metadata": {},
   "outputs": [
    {
     "data": {
      "text/plain": [
       "(13.0, 7.0, 20.0)"
      ]
     },
     "execution_count": 15,
     "metadata": {},
     "output_type": "execute_result"
    }
   ],
   "source": [
    "value(ce0), value(ce1), value(probce.objective)"
   ]
  }
 ],
 "metadata": {
  "kernelspec": {
   "display_name": "Python 2",
   "language": "python",
   "name": "python2"
  },
  "language_info": {
   "codemirror_mode": {
    "name": "ipython",
    "version": 2
   },
   "file_extension": ".py",
   "mimetype": "text/x-python",
   "name": "python",
   "nbconvert_exporter": "python",
   "pygments_lexer": "ipython2",
   "version": "2.7.15"
  }
 },
 "nbformat": 4,
 "nbformat_minor": 2
}
